{
 "cells": [
  {
   "cell_type": "code",
   "execution_count": 1,
   "metadata": {
    "collapsed": false
   },
   "outputs": [
    {
     "name": "stderr",
     "output_type": "stream",
     "text": [
      "Using TensorFlow backend.\n"
     ]
    }
   ],
   "source": [
    "import numpy as np\n",
    "import binary_dude as bd\n",
    "import matplotlib.pyplot as plt\n",
    "%matplotlib inline \n",
    "\n",
    "from numpy import *\n",
    "\n",
    "import keras\n",
    "\n",
    "from keras.preprocessing import sequence\n",
    "from keras.models import Sequential\n",
    "from keras.layers.core import Dense, Dropout, Activation, Flatten\n",
    "from keras.optimizers import SGD, RMSprop, Adagrad, Adam, Adadelta\n",
    "from keras.utils import np_utils\n",
    "\n",
    "from architectures import *\n",
    "import sim\n",
    "\n",
    "%load_ext autoreload"
   ]
  },
  {
   "cell_type": "code",
   "execution_count": 2,
   "metadata": {
    "collapsed": false
   },
   "outputs": [
    {
     "name": "stdout",
     "output_type": "stream",
     "text": [
      "[[ 1.025  1.25   0.   ]\n",
      " [ 1.025  0.     1.25 ]]\n"
     ]
    }
   ],
   "source": [
    "# n=1000000\n",
    "alpha=0.1\n",
    "delta=0.1\n",
    "nb_classes=2\n",
    "L=np.array([[delta, -delta/(1-2*delta), (1-delta)/(1-2*delta)],[delta, (1-delta)/(1-2*delta), -delta/(1-2*delta)]])\n",
    "L_new=-L+(1-delta)/(1-2*delta)     # A new loss matrix\n",
    "k_max=40\n",
    "\n",
    "print(L_new)\n",
    "\n",
    "# -----------------------------------------------------\n",
    "# For directly loading an image data \n",
    "# and generating noisy version of it\n",
    "# -----------------------------------------------------\n",
    "from PIL import Image\n",
    "# im=Image.open('lena_512.tif').convert('L')\n",
    "im=Image.open('Einstein256_256.jpg').convert('L')\n",
    "# im=Image.open('barbara.png').convert('L')\n",
    "# im=Image.open('Shannon256_256.jpg').convert('L')\n",
    "\n",
    "# im=Image.open('Cameraman.png').convert('L')\n",
    "# im=Image.open('Boats.png').convert('L')\n",
    "\n",
    "\n",
    "imarray=np.array(im)\n",
    "n=imarray.shape[0]*imarray.shape[1]\n",
    "\n",
    "im_bin=bd.make_binary_image(imarray)\n",
    "x=im_bin.copy().reshape(n,)\n",
    "z=bd.bsc(x,delta)\n",
    "# -----------------------------------------------------\n",
    "# Save the clean and noisy data\n",
    "# -----------------------------------------------------\n",
    "\n",
    "np.savez('Einstein_NIPS_camera_data',x=x,z=z)\n",
    "# -----------------------------------------------------\n",
    "# For loading pre-generated data\n",
    "# -----------------------------------------------------\n",
    "# npzfile = np.load('lena_image.npz')\n",
    "# x=npzfile['x']\n",
    "# z=npzfile['z']\n",
    "# -----------------------------------------------------\n",
    "\n",
    "n=x.shape[0]"
   ]
  },
  {
   "cell_type": "code",
   "execution_count": 3,
   "metadata": {
    "collapsed": false
   },
   "outputs": [],
   "source": [
    "Z=np_utils.to_categorical(z,nb_classes)\n",
    "err_nn_k=zeros(k_max)\n",
    "err_dude_k=zeros(k_max)\n",
    "\n",
    "err_dude_k[0]=delta\n",
    "err_nn_k[0]=delta\n",
    "\n",
    "est_loss=zeros((2,k_max))\n",
    "est_loss[0,0]=0.1\n",
    "est_loss[1,0]=0.1"
   ]
  },
  {
   "cell_type": "code",
   "execution_count": 4,
   "metadata": {
    "collapsed": false
   },
   "outputs": [],
   "source": [
    "x_hat_dude=np.zeros((k_max,n))\n",
    "x_hat_n_dude=np.zeros((k_max,n))"
   ]
  },
  {
   "cell_type": "code",
   "execution_count": 5,
   "metadata": {
    "collapsed": false
   },
   "outputs": [
    {
     "name": "stdout",
     "output_type": "stream",
     "text": [
      "range(1, 41)\n"
     ]
    }
   ],
   "source": [
    "k_range=range(1,k_max+1)\n",
    "print(k_range)"
   ]
  },
  {
   "cell_type": "code",
   "execution_count": null,
   "metadata": {
    "collapsed": false
   },
   "outputs": [
    {
     "name": "stdout",
     "output_type": "stream",
     "text": [
      "k= 1\n",
      "Model fitting...\n",
      "<class 'list'>\n",
      "(65534,)\n",
      "error_nn= 0.100631713867\n",
      "error_dude= 0.100631713867\n",
      "k= 2\n",
      "Model fitting...\n",
      "<class 'list'>\n",
      "(65532,)\n",
      "error_nn= 0.0945434570312\n",
      "error_dude= 0.0935668945312\n",
      "k= 3\n",
      "Model fitting...\n",
      "<class 'list'>\n",
      "(65530,)\n",
      "error_nn= 0.0921478271484\n",
      "error_dude= 0.09228515625\n",
      "k= 4\n",
      "Model fitting...\n",
      "<class 'list'>\n",
      "(65528,)\n",
      "error_nn= 0.0916595458984\n",
      "error_dude= 0.0917816162109\n",
      "k= 5\n",
      "Model fitting..."
     ]
    }
   ],
   "source": [
    "# for k in range(1,k_max):\n",
    "for k in k_range:\n",
    "    print('k=',k)\n",
    "\n",
    "# -----------------------------------------------------\n",
    "# For directly generating data for Neural DUDE\n",
    "# -----------------------------------------------------\n",
    "    C,Y = bd.make_data_for_ndude(Z,k,L_new,nb_classes,n)\n",
    "# -----------------------------------------------------\n",
    "\n",
    "# -----------------------------------------------------\n",
    "# For loading pre-generated data for Neural DUDE\n",
    "# -----------------------------------------------------\n",
    "#     file_n='lena_nn_k_'+str(k)+'.npz'\n",
    "#     nn_data=np.load(file_n)\n",
    "#     C=nn_data['C']\n",
    "#     Y=nn_data['Y']\n",
    "# -----------------------------------------------------\n",
    "    \n",
    "\n",
    "# -----------------------------------------------------\n",
    "# Defining neural networks\n",
    "# -----------------------------------------------------\n",
    "\n",
    "    model = RNNCandAC(k, nb_classes)\n",
    "\n",
    "    rms=RMSprop(lr=0.001, rho=0.9, epsilon=1e-06,clipnorm=1.5)\n",
    "    adagrad=Adagrad(clipnorm=1.5)\n",
    "    adam=Adam()\n",
    "    adadelta=Adadelta()\n",
    "    sgd=SGD(lr=0.01,decay=1e-6,momentum=0.95, nesterov=True, clipnorm=1.0)\n",
    "    \n",
    "    model.compile(loss='poisson', optimizer=adam)\n",
    "    \n",
    "    print('Model fitting...')\n",
    "    history = model.fit([C[:,0:k*nb_classes],C[:,k*nb_classes:]],Y,nb_epoch=1,batch_size=100, verbose=0,\n",
    "          validation_data=([C[:,0:k*nb_classes],C[:,k*nb_classes:]], Y))\n",
    "    \n",
    "    print(type(history.history['loss']))\n",
    "# -----------------------------------------------------\n",
    "    \n",
    "    pred_class=model.predict([C[:,0:k*nb_classes],C[:,k*nb_classes:]], batch_size=200, verbose=0).argmax(axis=1)\n",
    "    #pred_class=model.predict_classes(C, batch_size=200, verbose=0)\n",
    "    print(pred_class.shape)\n",
    "    s_nn_hat=hstack((zeros(k),pred_class,zeros(k)))\n",
    "    x_nn_hat=bd.denoise_with_s(z,s_nn_hat,k)\n",
    "    error_nn=bd.error_rate(x,x_nn_hat)\n",
    "    print('error_nn=', error_nn)\n",
    "    err_nn_k[k]=error_nn\n",
    "    \n",
    "    x_hat_n_dude[k,:]=x_nn_hat\n",
    "    \n",
    "    \n",
    "    s_hat,m= bd.dude2(z,k,delta) \n",
    "    x_dude_hat=bd.denoise_with_s(z,s_hat,k)\n",
    "    error_dude=bd.error_rate(x,x_dude_hat)\n",
    "    print('error_dude=',error_dude)\n",
    "    err_dude_k[k]=error_dude\n",
    "    \n",
    "    x_hat_dude[k,:]=x_dude_hat\n",
    "    \n",
    "    s_class=3\n",
    "    s_hat_cat=np_utils.to_categorical(s_hat,s_class)\n",
    "    s_nn_hat_cat=np_utils.to_categorical(s_nn_hat,s_class)\n",
    "    \n",
    "    emp_dist=dot(Z,L)\n",
    "    est_loss_dude=mean(sum(emp_dist*s_hat_cat,axis=1))\n",
    "    est_loss_nn_dude=mean(sum(emp_dist*s_nn_hat_cat,axis=1))\n",
    "    \n",
    "    est_loss[0,k]=est_loss_dude\n",
    "    est_loss[1,k]=est_loss_nn_dude"
   ]
  },
  {
   "cell_type": "code",
   "execution_count": null,
   "metadata": {
    "collapsed": false
   },
   "outputs": [],
   "source": [
    "k=range(k_max)\n",
    "plt.plot(k,err_dude_k/delta,'r',linewidth=2.0)\n",
    "plt.plot(k,est_loss[0,:]/delta,'r-*',linewidth=2.0)\n",
    "# plt.plot(k,0.558*np.ones(15),'k',linewidth=2.0)\n",
    "plt.ylim((0,1.5))\n",
    "plt.xlabel('Window size k',fontsize=16)\n",
    "plt.ylabel('(Bit Error Rate) / $\\delta$',fontsize=16)\n",
    "plt.legend(['DUDE BER','DUDE Estimated BER'],loc='upper right',fontsize=14)\n",
    "# plt.savefig('/Users/tsmoon/Dropbox/Professional/Research/1. Papers/2016/ICML/Neural universal denoiser/figures/Einstein_dude_est_ber.pdf')"
   ]
  },
  {
   "cell_type": "code",
   "execution_count": null,
   "metadata": {
    "collapsed": false
   },
   "outputs": [],
   "source": [
    "k=range(k_max)\n",
    "plt.plot(k,err_nn_k/delta,'k-^',linewidth=2.0)\n",
    "plt.plot(k,est_loss[1,:]/delta,'b-*',linewidth=2.0)\n",
    "# plt.plot(k,0.558*np.ones(15),'k',linewidth=2.0)\n",
    "plt.ylim((0,1))\n",
    "plt.xlabel('Window size k',fontsize=16)\n",
    "plt.ylabel('(Bit Error Rate) / $\\delta$',fontsize=16)\n",
    "plt.legend(['Neural DUDE BER','Neural DUDE Estimated BER'],loc='upper right',fontsize=14)\n",
    "# plt.savefig('/Users/tsmoon/Dropbox/Professional/Research/1. Papers/2016/ICML/Neural universal denoiser/figures/Einstein_n_dude_est_ber.pdf')"
   ]
  },
  {
   "cell_type": "code",
   "execution_count": null,
   "metadata": {
    "collapsed": true
   },
   "outputs": [],
   "source": [
    "import matplotlib\n",
    "matplotlib.rcParams['text.usetex'] = True"
   ]
  },
  {
   "cell_type": "code",
   "execution_count": null,
   "metadata": {
    "collapsed": false
   },
   "outputs": [],
   "source": [
    "k=range(k_max)\n",
    "plt.plot(k,err_dude_k/delta,'r',linewidth=2.0)\n",
    "plt.plot(k,err_nn_k/delta,'b-^',linewidth=2.0)\n",
    "plt.plot(k,est_loss[1,:]/delta,'b-*',linewidth=2.0)\n",
    "\n",
    "plt.legend(['DUDE BER','Neural DUDE(4L) BER','Neural DUDE(4L) Est. BER'],fontsize=14)\n",
    "plt.ylim((0.3,0.9))\n",
    "plt.xlabel('Window size k',fontsize=16)\n",
    "plt.ylabel('(Bit Error Rate) / $\\delta$',fontsize=16)\n",
    "plt.annotate('0.404$\\delta$', xy=(36, 0.404), xytext=(30, 0.6),\n",
    "            arrowprops=dict(facecolor='blue', shrink=0.1),fontsize=16\n",
    "            )\n",
    "plt.annotate('0.563$\\delta$', xy=(5, 0.563), xytext=(2, 0.65),\n",
    "            arrowprops=dict(facecolor='red', shrink=0.1),fontsize=16\n",
    "            )\n",
    "plt.savefig('/Users/tsmoon/Dropbox/Professional/Research/1. Papers/2016/NIPS_camera_ready/figures/Einstein_delta_0_1_k_40.pdf')"
   ]
  },
  {
   "cell_type": "code",
   "execution_count": null,
   "metadata": {
    "collapsed": true
   },
   "outputs": [],
   "source": [
    "np.savez('Einstein_NIPS_camera_data',x=x,z=z)"
   ]
  },
  {
   "cell_type": "code",
   "execution_count": null,
   "metadata": {
    "collapsed": false
   },
   "outputs": [],
   "source": [
    "k=range(k_max)\n",
    "plt.plot(k,est_loss[0,]*10,'r',linewidth=2.0)\n",
    "plt.plot(k,est_loss[1,]*10,'b-^',linewidth=2.0)\n",
    "plt.legend(['Baseline','Proposed (4L)'],fontsize=14)\n",
    "# plt.legend(['DUDE','Neural DUDE (4L)'])\n",
    "\n",
    "plt.ylim((-1.25,1.2))\n",
    "plt.xlabel('Context size k',fontsize=16)\n",
    "plt.ylabel('(Bit Error Rate) / $\\delta$',fontsize=16)\n",
    "# plt.savefig('lena_est_ber_k_27_nrf.pdf')"
   ]
  },
  {
   "cell_type": "code",
   "execution_count": null,
   "metadata": {
    "collapsed": false
   },
   "outputs": [],
   "source": [
    "k=range(k_max)\n",
    "plt.plot(k,est_loss[1,]*10,'r',linewidth=2.0)\n",
    "plt.plot(k,err_nn_k*10,'b-^',linewidth=2.0)\n",
    "plt.ylim((0.2,0.6))\n",
    "plt.legend(['Est. Loss for Proposed (4L)','True Loss for Proposed (4L)'],fontsize=14)\n",
    "# plt.legend(['Est. Loss for Neural DUDE (4L)','True Loss for Neural DUDE (4L)'])\n",
    "\n",
    "plt.xlabel('Window size k',fontsize=16)\n",
    "plt.ylabel('(Bit Error Rate) / $\\delta$',fontsize=16)\n",
    "# plt.savefig('lena_est_true_ber_neural_dude_nrf.pdf')"
   ]
  },
  {
   "cell_type": "code",
   "execution_count": null,
   "metadata": {
    "collapsed": false
   },
   "outputs": [],
   "source": [
    "#res_file='Neural_dude_result_full'\n",
    "#np.savez(res_file,est_loss=est_loss,err_nn_k=err_nn_k,err_dude_k=err_dude_k)"
   ]
  },
  {
   "cell_type": "code",
   "execution_count": null,
   "metadata": {
    "collapsed": false
   },
   "outputs": [],
   "source": [
    "plt.imshow(x_dude_hat.reshape((256,256)),cmap=plt.cm.gray)"
   ]
  },
  {
   "cell_type": "code",
   "execution_count": null,
   "metadata": {
    "collapsed": false
   },
   "outputs": [],
   "source": [
    "plt.imshow(x_nn_hat.reshape((256,256)),cmap=plt.cm.gray)"
   ]
  },
  {
   "cell_type": "code",
   "execution_count": null,
   "metadata": {
    "collapsed": false
   },
   "outputs": [],
   "source": [
    "plt.imshow(z.reshape((256,256)),cmap=plt.cm.gray)"
   ]
  },
  {
   "cell_type": "code",
   "execution_count": null,
   "metadata": {
    "collapsed": false
   },
   "outputs": [],
   "source": [
    "plt.imshow(x.reshape((256,256)),cmap=plt.cm.gray)"
   ]
  },
  {
   "cell_type": "code",
   "execution_count": null,
   "metadata": {
    "collapsed": true
   },
   "outputs": [],
   "source": [
    "res_file='result_Shannon_delta_0_15_k_40'\n",
    "np.savez(res_file,est_loss=est_loss,err_nn_k=err_nn_k,err_dude_k=err_dude_k)"
   ]
  },
  {
   "cell_type": "code",
   "execution_count": null,
   "metadata": {
    "collapsed": true
   },
   "outputs": [],
   "source": []
  }
 ],
 "metadata": {
  "kernelspec": {
   "display_name": "Python 3",
   "language": "python",
   "name": "python3"
  },
  "language_info": {
   "codemirror_mode": {
    "name": "ipython",
    "version": 3
   },
   "file_extension": ".py",
   "mimetype": "text/x-python",
   "name": "python",
   "nbconvert_exporter": "python",
   "pygments_lexer": "ipython3",
   "version": "3.5.2"
  }
 },
 "nbformat": 4,
 "nbformat_minor": 0
}
